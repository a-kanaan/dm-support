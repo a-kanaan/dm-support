{
 "cells": [
  {
   "cell_type": "markdown",
   "id": "cb2a80e3-2abd-4ea2-b4d6-e001dc85b91b",
   "metadata": {},
   "source": [
    "# Understanding Data Types"
   ]
  },
  {
   "cell_type": "markdown",
   "id": "4d1cd3bf-5927-4c84-af29-e6ec27ec1530",
   "metadata": {},
   "source": [
    "## Nominal, Ordinal, Interval, Ratio\n",
    "\n",
    "- Nominal Variables:\n",
    "Definition: Variables that represent categories with no specific order or ranking.\n",
    "Examples: Gender (Male/Female), Color (Red/Green/Blue), Country (USA/UK/Canada).\n",
    "\n",
    "- Ordinal Variables:\n",
    "Definition: Variables that represent categories with a specific order or ranking.\n",
    "Examples: Education Level (High School/Diploma/Bachelor's/Master's/PhD), Rating (Poor/Fair/Good/Excellent).\n",
    "\n",
    "- Interval Variables:\n",
    "Definition: Variables that have a numerical scale with equal intervals, but no true zero point.\n",
    "Examples: Temperature in Celsius, IQ score.\n",
    "\n",
    "- Ratio Variables:\n",
    "Definition: Variables that have a numerical scale with equal intervals and a true zero point.\n",
    "Examples: Height, Weight, Age."
   ]
  },
  {
   "cell_type": "code",
   "execution_count": 2,
   "id": "6eb39141-50e9-4f44-9961-815001fdad3b",
   "metadata": {},
   "outputs": [
    {
     "name": "stdout",
     "output_type": "stream",
     "text": [
      "Nominal Variable:  Apple\n",
      "Ordinal Variable:  {'Low': 1, 'Medium': 2, 'High': 3}\n",
      "Interval Variable:  [10, 20, 30, 40]\n",
      "Ratio Variable:  [2, 4, 6, 8]\n"
     ]
    }
   ],
   "source": [
    "# Create a list of example data\n",
    "data = ['Apple', 'Orange', 'Banana', 'Grapes']\n",
    "\n",
    "# Nominal Variable\n",
    "nominal_variable = data[0]\n",
    "print(\"Nominal Variable: \", nominal_variable)\n",
    "\n",
    "# Ordinal Variable\n",
    "ordinal_variable = {'Low': 1, 'Medium': 2, 'High': 3}\n",
    "print(\"Ordinal Variable: \", ordinal_variable)\n",
    "\n",
    "# Interval Variable\n",
    "interval_variable = [10, 20, 30, 40]\n",
    "print(\"Interval Variable: \", interval_variable)\n",
    "\n",
    "# Ratio Variable\n",
    "ratio_variable = [2, 4, 6, 8]\n",
    "print(\"Ratio Variable: \", ratio_variable)\n"
   ]
  },
  {
   "cell_type": "markdown",
   "id": "119bc500-9169-45d9-802e-5486abf04fa3",
   "metadata": {},
   "source": [
    "## Discrete and Continous\n",
    "\n",
    "- Discrete Variables:\n",
    "Definition: Variables that can only take on specific, separate values.\n",
    "Examples: Number of children, Number of customer complaints, Number of items purchased.\n",
    "\n",
    "- Continuous Variables:\n",
    "Definition: Variables that can take on any value within a range or interval.\n",
    "Examples: Temperature, Income, Sales Revenue."
   ]
  },
  {
   "cell_type": "code",
   "execution_count": 4,
   "id": "a8332a5f-13cf-4586-bc3d-1d9d63544b1f",
   "metadata": {},
   "outputs": [
    {
     "name": "stdout",
     "output_type": "stream",
     "text": [
      "Discrete Variable:  [1, 2, 3, 4, 5]\n",
      "Continuous Variable:  [1.5, 2.7, 3.9, 4.2, 5.1]\n"
     ]
    }
   ],
   "source": [
    "# Create a list of example data\n",
    "discrete_variable = [1, 2, 3, 4, 5]\n",
    "continuous_variable = [1.5, 2.7, 3.9, 4.2, 5.1]\n",
    "\n",
    "# Discrete Variable\n",
    "print(\"Discrete Variable: \", discrete_variable)\n",
    "\n",
    "# Continuous Variable\n",
    "print(\"Continuous Variable: \", continuous_variable)\n"
   ]
  }
 ],
 "metadata": {
  "kernelspec": {
   "display_name": "Python 3 (ipykernel)",
   "language": "python",
   "name": "python3"
  },
  "language_info": {
   "codemirror_mode": {
    "name": "ipython",
    "version": 3
   },
   "file_extension": ".py",
   "mimetype": "text/x-python",
   "name": "python",
   "nbconvert_exporter": "python",
   "pygments_lexer": "ipython3",
   "version": "3.8.13"
  }
 },
 "nbformat": 4,
 "nbformat_minor": 5
}
