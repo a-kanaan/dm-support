{
 "cells": [
  {
   "cell_type": "markdown",
   "id": "86733f3e-94c8-4ea4-84ee-ef87d0173572",
   "metadata": {},
   "source": [
    "# Labeled, Unlabeled, Partially Labeled Datasets"
   ]
  },
  {
   "cell_type": "markdown",
   "id": "05ef531f-a190-46fc-a09d-4f5069270b6b",
   "metadata": {},
   "source": [
    "# Labeled Dataset\n",
    "A labeled dataset would contain emails along with their respective labels."
   ]
  },
  {
   "cell_type": "code",
   "execution_count": 1,
   "id": "1bd1bb94-15ad-4748-ac47-3cfad807e186",
   "metadata": {},
   "outputs": [
    {
     "name": "stdout",
     "output_type": "stream",
     "text": [
      "Labeled Dataset\n",
      "                  Email Label\n",
      "0  Buy our product now!  spam\n",
      "1       Meeting at 10am   ham\n",
      "2    You won a lottery!  spam\n",
      "3         Dinner at 8pm   ham\n"
     ]
    }
   ],
   "source": [
    "import pandas as pd\n",
    "\n",
    "# Labeled dataset\n",
    "labeled_dataset = pd.DataFrame({\n",
    "    'Email': ['Buy our product now!', 'Meeting at 10am', 'You won a lottery!', 'Dinner at 8pm'],\n",
    "    'Label': ['spam', 'ham', 'spam', 'ham']\n",
    "})\n",
    "\n",
    "print(\"Labeled Dataset\")\n",
    "print(labeled_dataset)\n"
   ]
  },
  {
   "cell_type": "markdown",
   "id": "75f5d657-5506-4375-839e-5fa56d690826",
   "metadata": {},
   "source": [
    "# Unlabeled Dataset\n",
    "\n",
    "The unlabeled dataset contains the same emails but without any information about whether each email is spam or ham. The task of supervised machine learning algorithms is often to learn a model from the labeled dataset that can correctly predict the labels of the unlabeled dataset."
   ]
  },
  {
   "cell_type": "code",
   "execution_count": 2,
   "id": "2ab4f5bc-d0ef-4877-986b-563d58eda7d5",
   "metadata": {},
   "outputs": [
    {
     "name": "stdout",
     "output_type": "stream",
     "text": [
      "\n",
      "Unlabeled Dataset\n",
      "                  Email\n",
      "0  Buy our product now!\n",
      "1       Meeting at 10am\n",
      "2    You won a lottery!\n",
      "3         Dinner at 8pm\n"
     ]
    }
   ],
   "source": [
    "# Unlabeled dataset\n",
    "unlabeled_dataset = pd.DataFrame({\n",
    "    'Email': ['Buy our product now!', 'Meeting at 10am', 'You won a lottery!', 'Dinner at 8pm']\n",
    "})\n",
    "\n",
    "print(\"\\nUnlabeled Dataset\")\n",
    "print(unlabeled_dataset)\n"
   ]
  },
  {
   "cell_type": "markdown",
   "id": "1081a950-1890-4143-87e9-d16e95bd81e4",
   "metadata": {},
   "source": [
    "# Partially Labeled Data"
   ]
  },
  {
   "cell_type": "code",
   "execution_count": 3,
   "id": "c5c952c1-7309-438e-8345-9f5a1645987e",
   "metadata": {},
   "outputs": [
    {
     "name": "stdout",
     "output_type": "stream",
     "text": [
      "Semi-labeled Dataset\n",
      "                  Email Label\n",
      "0  Buy our product now!  spam\n",
      "1       Meeting at 10am   ham\n",
      "2    You won a lottery!  None\n",
      "3         Dinner at 8pm  None\n"
     ]
    }
   ],
   "source": [
    "# Semi-labeled dataset\n",
    "semi_labeled_dataset = pd.DataFrame({\n",
    "    'Email': ['Buy our product now!', 'Meeting at 10am', 'You won a lottery!', 'Dinner at 8pm'],\n",
    "    'Label': ['spam', 'ham', None, None]  # The labels for some instances are missing (None).\n",
    "})\n",
    "\n",
    "print(\"Semi-labeled Dataset\")\n",
    "print(semi_labeled_dataset)\n"
   ]
  }
 ],
 "metadata": {
  "kernelspec": {
   "display_name": "Python 3 (ipykernel)",
   "language": "python",
   "name": "python3"
  },
  "language_info": {
   "codemirror_mode": {
    "name": "ipython",
    "version": 3
   },
   "file_extension": ".py",
   "mimetype": "text/x-python",
   "name": "python",
   "nbconvert_exporter": "python",
   "pygments_lexer": "ipython3",
   "version": "3.8.13"
  }
 },
 "nbformat": 4,
 "nbformat_minor": 5
}
