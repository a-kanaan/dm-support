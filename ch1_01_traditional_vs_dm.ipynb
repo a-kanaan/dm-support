{
  "cells": [
    {
      "cell_type": "markdown",
      "metadata": {
        "id": "view-in-github",
        "colab_type": "text"
      },
      "source": [
        "<a href=\"https://colab.research.google.com/github/a-kanaan/dm-support/blob/master/ch1_01_traditional_vs_dm.ipynb\" target=\"_parent\"><img src=\"https://colab.research.google.com/assets/colab-badge.svg\" alt=\"Open In Colab\"/></a>"
      ]
    },
    {
      "cell_type": "markdown",
      "id": "861399af-9dbd-4e3b-9f58-9d8341fc2ad3",
      "metadata": {
        "id": "861399af-9dbd-4e3b-9f58-9d8341fc2ad3"
      },
      "source": [
        "# Traditional Programming vs Machine Learning (Data Mining)\n",
        "\n",
        "Welcome to this example, where we will explore the difference between traditional programming and machine learning, focusing on how they operate and the relationship between data, rules, and results.\n",
        "\n",
        "In traditional programming, we typically rely on established rules and data to produce desired results. It involves explicitly defining the steps and logic to achieve the desired outcome. In our example, we used traditional programming to generate a table of 2 by following a predefined rule: multiplying each number by 2. This approach emphasizes the implementation of rules and logic to obtain specific results.\n",
        "\n",
        "On the other hand, machine learning takes a different approach. Rather than being explicitly programmed with rules, machine learning algorithms learn from data to generate rules that can predict results. In our example, we showcased how regression analysis, a popular machine learning technique, can be used to uncover relationships between data points. By analyzing the provided data on the table of 2, the regression model learns the underlying patterns and produces rules to predict results.\n",
        "\n",
        "The purpose of this example is to highlight the fundamental distinction between traditional programming and machine learning. Traditional programming relies on predefined rules to produce results, while machine learning leverages data and results to generate rules. This key difference allows machine learning to uncover complex relationships and patterns that may be difficult to discern using traditional programming techniques alone.\n",
        "\n",
        "By exploring these contrasting approaches, we hope to provide you with a deeper understanding of the power and potential of machine learning in extracting valuable insights and generating rules from data. This knowledge will be invaluable as we delve further into the exciting world of data mining and machine learning techniques.\n",
        "\n",
        "Let's embark on this journey together and uncover the fascinating differences between traditional programming and machine learning!"
      ]
    },
    {
      "cell_type": "markdown",
      "id": "bb2f1a1f-2bae-41a3-9cab-e386e04edacb",
      "metadata": {
        "id": "bb2f1a1f-2bae-41a3-9cab-e386e04edacb"
      },
      "source": [
        "## Traditional programming approach to generate a table of 2"
      ]
    },
    {
      "cell_type": "code",
      "execution_count": 4,
      "id": "f94ed340-07c6-4fb9-a95e-2cd399133f8b",
      "metadata": {
        "id": "f94ed340-07c6-4fb9-a95e-2cd399133f8b",
        "outputId": "b24e3ae8-a331-46f4-cae8-f2dd6ffffe9e",
        "colab": {
          "base_uri": "https://localhost:8080/"
        }
      },
      "outputs": [
        {
          "output_type": "stream",
          "name": "stdout",
          "text": [
            "data:\t [ 1  2  3  4  5  6  7  8  9 10]\n",
            "rule --> Result = 2 x Number\n",
            "results: [2, 4, 6, 8, 10, 12, 14, 16, 18, 20]\n"
          ]
        }
      ],
      "source": [
        "# Traditional programming approach to generate a table of 2\n",
        "\n",
        "# Prepare the data\n",
        "data = np.array(range(1, 11))\n",
        "\n",
        "# print data\n",
        "print(f'data:\\t {data}')\n",
        "\n",
        "# rule is Result = 2 * Number\n",
        "print('rule --> Result = 2 x Number')\n",
        "\n",
        "results = []\n",
        "for i in range(1, 11):\n",
        "    result = 2 * i # rule: data x 2\n",
        "    results.append(result)\n",
        "\n",
        "print(\"results:\", results)\n"
      ]
    },
    {
      "cell_type": "markdown",
      "id": "7a64be70-e33e-4c8b-aca2-0571c3f56d58",
      "metadata": {
        "id": "7a64be70-e33e-4c8b-aca2-0571c3f56d58"
      },
      "source": [
        "From a traditional programming perspective, the given code demonstrates the generation of the Table of 2 using a loop and the application of a rule. In this context, the code explicitly defines the rule of multiplying each number by 2. Now, let's explore how data mining approaches can recover the rule by utilizing the available data and results."
      ]
    },
    {
      "cell_type": "markdown",
      "id": "6184cf05-b5bd-4d50-8685-2f91c1665aa9",
      "metadata": {
        "id": "6184cf05-b5bd-4d50-8685-2f91c1665aa9"
      },
      "source": [
        "## Machine learning approach to extract the rule by providing data & results"
      ]
    },
    {
      "cell_type": "code",
      "execution_count": 5,
      "id": "37fd26aa-1509-4814-a92f-c343e826cc1c",
      "metadata": {
        "id": "37fd26aa-1509-4814-a92f-c343e826cc1c",
        "outputId": "5140d88d-623e-44e5-feba-55dfea23a289",
        "colab": {
          "base_uri": "https://localhost:8080/"
        }
      },
      "outputs": [
        {
          "output_type": "stream",
          "name": "stdout",
          "text": [
            "predicted results: \n",
            "data: \t [11, 12, 13, 14, 15]\n",
            "result:  [22. 24. 26. 28. 30.]\n",
            "-----\n",
            "rule --> Result = 0 + 2 x Number\n"
          ]
        }
      ],
      "source": [
        "\n",
        "import numpy as np\n",
        "from sklearn.linear_model import LinearRegression\n",
        "\n",
        "\n",
        "# Create and fit a linear regression model\n",
        "regression_model = LinearRegression()\n",
        "regression_model.fit(data.reshape(-1, 1), np.array(results))\n",
        "\n",
        "# Predict the results for new inputs\n",
        "new_X = np.array([11, 12, 13, 14, 15]).reshape(-1, 1)\n",
        "predicted_results = regression_model.predict(new_X)\n",
        "\n",
        "print('predicted results: ')\n",
        "print('data: \\t', [11, 12, 13, 14, 15])\n",
        "print('result: ', predicted_results)\n",
        "\n",
        "# extracted rule?\n",
        "print('-----')\n",
        "print(f'rule --> Result = {round(regression_model.intercept_)} + {round(regression_model.coef_[0])} x Number')"
      ]
    },
    {
      "cell_type": "code",
      "source": [
        "# Prepare the data\n",
        "input = np.array(range(1, 11))\n",
        "output = np.array([ 1,  5,  9, 13, 17, 21, 25, 29, 33, 37])\n",
        "\n",
        "print(f'input: {input}')\n",
        "print(f'output: {output}')"
      ],
      "metadata": {
        "colab": {
          "base_uri": "https://localhost:8080/"
        },
        "id": "7cFl2cTbbDrW",
        "outputId": "a7b3587f-134c-4d4f-b015-0ba97380c7b2"
      },
      "id": "7cFl2cTbbDrW",
      "execution_count": 11,
      "outputs": [
        {
          "output_type": "stream",
          "name": "stdout",
          "text": [
            "input: [ 1  2  3  4  5  6  7  8  9 10]\n",
            "output: [ 1  5  9 13 17 21 25 29 33 37]\n"
          ]
        }
      ]
    },
    {
      "cell_type": "code",
      "source": [
        "input = np.array(range(1, 11))\n",
        "output = np.array([-99.5, -99. , -98.5, -98. , -97.5, -97. , -96.5, -96. , -95.5, -95. ])\n",
        "\n",
        "print(f'input: {input}')\n",
        "print(f'output: {output}')"
      ],
      "metadata": {
        "colab": {
          "base_uri": "https://localhost:8080/"
        },
        "id": "F-ePz7H2bhDX",
        "outputId": "9fa140a9-4108-4536-dc71-df4e65c0d1b7"
      },
      "id": "F-ePz7H2bhDX",
      "execution_count": 14,
      "outputs": [
        {
          "output_type": "stream",
          "name": "stdout",
          "text": [
            "input: [ 1  2  3  4  5  6  7  8  9 10]\n",
            "output: [-99.5 -99.  -98.5 -98.  -97.5 -97.  -96.5 -96.  -95.5 -95. ]\n"
          ]
        }
      ]
    },
    {
      "cell_type": "code",
      "source": [],
      "metadata": {
        "id": "aawO3YZIcY-2"
      },
      "id": "aawO3YZIcY-2",
      "execution_count": null,
      "outputs": []
    },
    {
      "cell_type": "markdown",
      "source": [
        "| Input | Output |\n",
        "|-------|--------|\n",
        "| 5     | -97.5  |\n",
        "| 8     | -96.0  |\n",
        "| 2     | -99.0  |\n",
        "| 10    | -95.0  |\n",
        "| 1     | -99.5  |\n",
        "| 7     | -96.5  |\n",
        "| 6     | -97.0  |\n",
        "| 4     | -98.0  |\n",
        "| 9     | -95.5  |\n",
        "| 3     | -98.5  |\n",
        "\n",
        "\n",
        "- What the output would be for the input 11?? *Hint: [-94.5]*"
      ],
      "metadata": {
        "id": "qXm79d_dcZvt"
      },
      "id": "qXm79d_dcZvt"
    },
    {
      "cell_type": "code",
      "source": [
        "import numpy as np\n",
        "\n",
        "# Input and output entries\n",
        "inputs = np.array([5, 8, 2, 10, 1, 7, 6, 4, 9, 3])\n",
        "outputs = np.array([-97.5, -96.0, -99.0, -95.0, -99.5, -96.5, -97.0, -98.0, -95.5, -98.5])\n",
        "\n",
        "print(\"Inputs:\", inputs)\n",
        "print(\"Outputs:\", outputs)\n",
        "\n"
      ],
      "metadata": {
        "colab": {
          "base_uri": "https://localhost:8080/"
        },
        "id": "jXTg8XKGcnG2",
        "outputId": "08c09e03-9a4b-4c0c-9d60-4b98ec4494d7"
      },
      "id": "jXTg8XKGcnG2",
      "execution_count": 24,
      "outputs": [
        {
          "output_type": "stream",
          "name": "stdout",
          "text": [
            "Inputs: [ 5  8  2 10  1  7  6  4  9  3]\n",
            "Outputs: [-97.5 -96.  -99.  -95.  -99.5 -96.5 -97.  -98.  -95.5 -98.5]\n"
          ]
        }
      ]
    },
    {
      "cell_type": "markdown",
      "id": "f4bd2fe9-2490-427d-a6aa-7f0dcaf41bab",
      "metadata": {
        "id": "f4bd2fe9-2490-427d-a6aa-7f0dcaf41bab"
      },
      "source": [
        "# Conclusion\n",
        "\n",
        "In this example, we explored the difference between traditional programming and machine learning in terms of their approach to data, rules, and results. Traditional programming relies on predefined rules and explicit logic to obtain specific results. On the other hand, machine learning algorithms learn from data to generate rules that predict results."
      ]
    }
  ],
  "metadata": {
    "kernelspec": {
      "display_name": "Python 3 (ipykernel)",
      "language": "python",
      "name": "python3"
    },
    "language_info": {
      "codemirror_mode": {
        "name": "ipython",
        "version": 3
      },
      "file_extension": ".py",
      "mimetype": "text/x-python",
      "name": "python",
      "nbconvert_exporter": "python",
      "pygments_lexer": "ipython3",
      "version": "3.8.13"
    },
    "colab": {
      "provenance": [],
      "include_colab_link": true
    }
  },
  "nbformat": 4,
  "nbformat_minor": 5
}